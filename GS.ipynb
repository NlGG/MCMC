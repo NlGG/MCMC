{
 "cells": [
  {
   "cell_type": "markdown",
   "metadata": {},
   "source": [
    "# ギブス・サンプラー"
   ]
  },
  {
   "cell_type": "markdown",
   "metadata": {},
   "source": [
    "<p>１　初期値$\\theta^{(0)}=(\\theta _1^{(0)}, \\theta _2^{(0)}, ..., \\theta _p^{(0)})$を決め、t=1とおく。</p>\n",
    "<p>２　i = 1, ..., pについて$$\\theta i^{(t)} \\sim \\pi(\\theta _i|\\theta _{-i}^{(t)}, x)$$ $$\\theta _{-i}^{(t)}=(\\theta _1^{(t)}, ...,  \\theta _{i-1}^{(t)}, \\theta _{i+1}^{(t-1)}, ..., \\theta _p^{(t-1)})$$を発生させる。</p>\n",
    "<p>３　tをt+1として　２　にもどる。</p>\n",
    "<p>２、３を繰り返し、十分大きな数Nについてt≥Nのとき$\\theta^{(t)}=(\\theta _1^{(t)}, \\theta _2^{(t)}, ..., \\theta _p^{(t)})$を事後分布$\\pi ^*$の確率標本とする。</p>"
   ]
  },
  {
   "cell_type": "code",
   "execution_count": null,
   "metadata": {
    "collapsed": true
   },
   "outputs": [],
   "source": []
  }
 ],
 "metadata": {
  "kernelspec": {
   "display_name": "Python 3",
   "language": "python",
   "name": "python3"
  },
  "language_info": {
   "codemirror_mode": {
    "name": "ipython",
    "version": 3
   },
   "file_extension": ".py",
   "mimetype": "text/x-python",
   "name": "python",
   "nbconvert_exporter": "python",
   "pygments_lexer": "ipython3",
   "version": "3.5.1"
  }
 },
 "nbformat": 4,
 "nbformat_minor": 0
}
