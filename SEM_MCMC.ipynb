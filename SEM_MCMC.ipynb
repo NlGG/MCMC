{
 "cells": [
  {
   "cell_type": "markdown",
   "metadata": {},
   "source": [
    "構造方程式モデリングとは、従来の多変量解析手法の多くをその下位モデルとして実行できる非常に汎用性の高い統計手法。</p>\n",
    "<p>・その理論的基礎を因子分析においている。</p>\n",
    "<p>←複数の観測変数で定義される構成概念を因果モデルや予測・説明モデルに柔軟に導入することができる。"
   ]
  },
  {
   "cell_type": "markdown",
   "metadata": {},
   "source": [
    "※その汎用性のためにSEMで表現する統計モデルの規模が大きくなる傾向がある。</p>\n",
    "多くの標本と膨大な計算量が問題→MCMCで解決"
   ]
  },
  {
   "cell_type": "markdown",
   "metadata": {},
   "source": [
    "Ⅰ　一般的なSEMのベイズ推定"
   ]
  },
  {
   "cell_type": "markdown",
   "metadata": {},
   "source": [
    "①モデルと表記"
   ]
  },
  {
   "cell_type": "code",
   "execution_count": null,
   "metadata": {
    "collapsed": true
   },
   "outputs": [],
   "source": []
  }
 ],
 "metadata": {
  "kernelspec": {
   "display_name": "Python 2",
   "language": "python",
   "name": "python2"
  },
  "language_info": {
   "codemirror_mode": {
    "name": "ipython",
    "version": 2
   },
   "file_extension": ".py",
   "mimetype": "text/x-python",
   "name": "python",
   "nbconvert_exporter": "python",
   "pygments_lexer": "ipython2",
   "version": "2.7.11"
  }
 },
 "nbformat": 4,
 "nbformat_minor": 0
}
