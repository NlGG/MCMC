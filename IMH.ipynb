{
 "cells": [
  {
   "cell_type": "markdown",
   "metadata": {},
   "source": [
    "# メトロポリスヘイスティングスアルゴリズム"
   ]
  },
  {
   "cell_type": "markdown",
   "metadata": {},
   "source": [
    "<P>１　初期値$μ^{(0)}$を決め、t=1とおく。</p>\n",
    "<p>２　現在μ^(t-1)であるとき、次の点μ^tの候補μ'をμ'~N(x_bar, 1/n)により発生させて、$$ α(μ^{(t-1)}, μ'|x) = min \\{ 1, \\frac{π(μ')}{π(μ^{(t-1)})}\\}$$とおく。</p>\n",
    "<p>３　(0, 1)上の一様乱数uを発生させて、$$μ^{(t)}=μ' if u≤α(μ^{(t-1)}, μ'|x)のとき$$ $$μ^{(t)}=u^{(t-1)} if μ^{(t-1)}>α(μ^{(t-1)}, μ'|x)のとき$$とする。</p>\n",
    "<p>４　tをt+1として２にもどる。"
   ]
  },
  {
   "cell_type": "code",
   "execution_count": 5,
   "metadata": {
    "collapsed": true
   },
   "outputs": [],
   "source": [
    "%matplotlib inline\n",
    "\n",
    "import numpy as np\n",
    "import math\n",
    "import matplotlib.pyplot as plt"
   ]
  },
  {
   "cell_type": "markdown",
   "metadata": {},
   "source": [
    "観測されたデータ。N(5,1)から作られた10個の乱数。"
   ]
  },
  {
   "cell_type": "code",
   "execution_count": 6,
   "metadata": {
    "collapsed": true
   },
   "outputs": [],
   "source": [
    "X = np.zeros(10)\n",
    "for i in range(len(X)):\n",
    "    X[i] = np.random.normal(5,1)"
   ]
  },
  {
   "cell_type": "code",
   "execution_count": 7,
   "metadata": {
    "collapsed": false
   },
   "outputs": [
    {
     "data": {
      "text/plain": [
       "array([ 5.09151921,  4.83015574,  6.01714296,  6.90337489,  4.35086548,\n",
       "        4.34681666,  5.76331036,  3.87102184,  3.951245  ,  4.9046089 ])"
      ]
     },
     "execution_count": 7,
     "metadata": {},
     "output_type": "execute_result"
    }
   ],
   "source": [
    "X"
   ]
  },
  {
   "cell_type": "markdown",
   "metadata": {},
   "source": [
    "[ベイズ推論]</P>\n",
    "<p>確率変数X_1, X_2,..., X_nが互いに独立に平均がμ、分散が1であるような正規分布に従うとする。</p>\n",
    "<p>μの事前分布にt分布を仮定する。"
   ]
  },
  {
   "cell_type": "code",
   "execution_count": 28,
   "metadata": {
    "collapsed": false
   },
   "outputs": [],
   "source": [
    "class IMH:\n",
    "    def __init__(self, X):\n",
    "        self.mu_0 = 1\n",
    "        self.freedom = 5.0\n",
    "        self.x_var = np.mean(X)\n",
    "        \n",
    "    def prior_dist(self, t):\n",
    "        ft = math.gamma((self.freedom+1.0)/2.0)/(math.sqrt(self.freedom*math.pi)*math.gamma((self.freedom)/2.0))*pow(1+pow(t, 2)/self.freedom, -(self.freedom+1)/2.0)\n",
    "        return ft\n",
    "        \n",
    "    def prop_dist(self):\n",
    "        mu = np.random.normal(self.x_var, 1.0/10.0)\n",
    "        return mu\n",
    "    \n",
    "    def accept(self, mu_new, mu):\n",
    "        return min([1, self.prior_dist(mu_new)/self.prior_dist(mu)])\n",
    "    \n",
    "    def simulate(self):\n",
    "        mu = np.zeros(11000)\n",
    "        mu[0] = self.mu_0\n",
    "        for i in range(1,11000):\n",
    "            mu_new = self.prop_dist()\n",
    "            u = np.random.uniform()\n",
    "            if u <= self.accept(mu_new, mu[i-1]):\n",
    "                mu[i] = mu_new\n",
    "            else:\n",
    "                mu[i] = mu[i-1]\n",
    "        return mu"
   ]
  },
  {
   "cell_type": "code",
   "execution_count": 29,
   "metadata": {
    "collapsed": false
   },
   "outputs": [],
   "source": [
    "imh = IMH(X)"
   ]
  },
  {
   "cell_type": "code",
   "execution_count": 30,
   "metadata": {
    "collapsed": false
   },
   "outputs": [],
   "source": [
    "mu = imh.simulate()"
   ]
  },
  {
   "cell_type": "code",
   "execution_count": 31,
   "metadata": {
    "collapsed": false
   },
   "outputs": [
    {
     "data": {
      "text/plain": [
       "[<matplotlib.lines.Line2D at 0x1078ac6d0>]"
      ]
     },
     "execution_count": 31,
     "metadata": {},
     "output_type": "execute_result"
    },
    {
     "data": {
      "image/png": "[encoded data removed]",
      "text/plain": [
       "<matplotlib.figure.Figure at 0x107381a90>"
      ]
     },
     "metadata": {},
     "output_type": "display_data"
    }
   ],
   "source": [
    "plt.plot(mu)"
   ]
  },
  {
   "cell_type": "code",
   "execution_count": 32,
   "metadata": {
    "collapsed": false
   },
   "outputs": [
    {
     "data": {
      "text/plain": [
       "(array([  153.,     0.,     0.,     0.,     0.,     0.,     0.,     0.,\n",
       "         2621.,  8226.]),\n",
       " array([ 1.        ,  1.43598638,  1.87197277,  2.30795915,  2.74394554,\n",
       "         3.17993192,  3.61591831,  4.05190469,  4.48789107,  4.92387746,\n",
       "         5.35986384]),\n",
       " <a list of 10 Patch objects>)"
      ]
     },
     "execution_count": 32,
     "metadata": {},
     "output_type": "execute_result"
    },
    {
     "data": {
      "image/png": "[encoded data removed]",
      "text/plain": [
       "<matplotlib.figure.Figure at 0x1078e01d0>"
      ]
     },
     "metadata": {},
     "output_type": "display_data"
    }
   ],
   "source": [
    "plt.hist(mu)"
   ]
  },
  {
   "cell_type": "code",
   "execution_count": 33,
   "metadata": {
    "collapsed": false
   },
   "outputs": [
    {
     "data": {
      "text/plain": [
       "(array([   26.,   197.,   776.,  1670.,  2753.,  2518.,  1413.,   514.,\n",
       "          113.,    20.]),\n",
       " array([ 4.64953145,  4.72056469,  4.79159793,  4.86263117,  4.93366441,\n",
       "         5.00469765,  5.07573089,  5.14676413,  5.21779736,  5.2888306 ,\n",
       "         5.35986384]),\n",
       " <a list of 10 Patch objects>)"
      ]
     },
     "execution_count": 33,
     "metadata": {},
     "output_type": "execute_result"
    },
    {
     "data": {
      "image/png": "[encoded data removed]",
      "text/plain": [
       "<matplotlib.figure.Figure at 0x107ad2790>"
      ]
     },
     "metadata": {},
     "output_type": "display_data"
    }
   ],
   "source": [
    "plt.hist(mu[1000:])"
   ]
  },
  {
   "cell_type": "markdown",
   "metadata": {},
   "source": [
    "$\\mu$の事前分布に無情報事前分布を仮定する。"
   ]
  },
  {
   "cell_type": "code",
   "execution_count": 22,
   "metadata": {
    "collapsed": false
   },
   "outputs": [],
   "source": [
    "class IMH:\n",
    "    def __init__(self, X):\n",
    "        self.mu_0 = 1\n",
    "        self.x_var = np.mean(X)\n",
    "        \n",
    "    def prior_dist(self, t):\n",
    "        ft = np.random.normal(0, 10000)\n",
    "        return ft\n",
    "        \n",
    "    def prop_dist(self):\n",
    "        mu = np.random.normal(self.x_var, 1.0/10.0)\n",
    "        return mu\n",
    "    \n",
    "    def accept(self, mu_new, mu):\n",
    "        return min([1, self.prior_dist(mu_new)/self.prior_dist(mu)])\n",
    "    \n",
    "    def simulate(self):\n",
    "        mu = np.zeros(11000)\n",
    "        mu[0] = self.mu_0\n",
    "        for i in range(1,11000):\n",
    "            mu_new = self.prop_dist()\n",
    "            u = np.random.uniform()\n",
    "            if u <= self.accept(mu_new, mu[i-1]):\n",
    "                mu[i] = mu_new\n",
    "            else:\n",
    "                mu[i] = mu[i-1]\n",
    "        return mu"
   ]
  },
  {
   "cell_type": "code",
   "execution_count": 23,
   "metadata": {
    "collapsed": false
   },
   "outputs": [],
   "source": [
    "imh = IMH(X)"
   ]
  },
  {
   "cell_type": "code",
   "execution_count": 24,
   "metadata": {
    "collapsed": true
   },
   "outputs": [],
   "source": [
    "mu = imh.simulate()"
   ]
  },
  {
   "cell_type": "code",
   "execution_count": 25,
   "metadata": {
    "collapsed": false
   },
   "outputs": [
    {
     "data": {
      "text/plain": [
       "[<matplotlib.lines.Line2D at 0x107456b90>]"
      ]
     },
     "execution_count": 25,
     "metadata": {},
     "output_type": "execute_result"
    },
    {
     "data": {
      "image/png": "[encoded data removed]",
      "text/plain": [
       "<matplotlib.figure.Figure at 0x10735ba50>"
      ]
     },
     "metadata": {},
     "output_type": "display_data"
    }
   ],
   "source": [
    "plt.plot(mu)"
   ]
  },
  {
   "cell_type": "code",
   "execution_count": 26,
   "metadata": {
    "collapsed": false
   },
   "outputs": [
    {
     "data": {
      "text/plain": [
       "(array([  2.00000000e+00,   0.00000000e+00,   0.00000000e+00,\n",
       "          0.00000000e+00,   0.00000000e+00,   0.00000000e+00,\n",
       "          0.00000000e+00,   0.00000000e+00,   3.87400000e+03,\n",
       "          7.12400000e+03]),\n",
       " array([ 1.        ,  1.44061902,  1.88123803,  2.32185705,  2.76247606,\n",
       "         3.20309508,  3.64371409,  4.08433311,  4.52495212,  4.96557114,\n",
       "         5.40619015]),\n",
       " <a list of 10 Patch objects>)"
      ]
     },
     "execution_count": 26,
     "metadata": {},
     "output_type": "execute_result"
    },
    {
     "data": {
      "image/png": "[encoded data removed]",
      "text/plain": [
       "<matplotlib.figure.Figure at 0x10747b3d0>"
      ]
     },
     "metadata": {},
     "output_type": "display_data"
    }
   ],
   "source": [
    "plt.hist(mu)"
   ]
  },
  {
   "cell_type": "code",
   "execution_count": 27,
   "metadata": {
    "collapsed": false
   },
   "outputs": [
    {
     "data": {
      "text/plain": [
       "(array([   36.,   295.,  1034.,  2227.,  2822.,  2197.,  1057.,   290.,\n",
       "           39.,     3.]),\n",
       " array([ 4.67323896,  4.74653408,  4.8198292 ,  4.89312432,  4.96641944,\n",
       "         5.03971456,  5.11300967,  5.18630479,  5.25959991,  5.33289503,\n",
       "         5.40619015]),\n",
       " <a list of 10 Patch objects>)"
      ]
     },
     "execution_count": 27,
     "metadata": {},
     "output_type": "execute_result"
    },
    {
     "data": {
      "image/png": "[encoded data removed]",
      "text/plain": [
       "<matplotlib.figure.Figure at 0x107677e90>"
      ]
     },
     "metadata": {},
     "output_type": "display_data"
    }
   ],
   "source": [
    "plt.hist(mu[1000:])"
   ]
  },
  {
   "cell_type": "code",
   "execution_count": null,
   "metadata": {
    "collapsed": true
   },
   "outputs": [],
   "source": []
  }
 ],
 "metadata": {
  "kernelspec": {
   "display_name": "Python 2",
   "language": "python",
   "name": "python2"
  },
  "language_info": {
   "codemirror_mode": {
    "name": "ipython",
    "version": 2
   },
   "file_extension": ".py",
   "mimetype": "text/x-python",
   "name": "python",
   "nbconvert_exporter": "python",
   "pygments_lexer": "ipython2",
   "version": "2.7.11"
  }
 },
 "nbformat": 4,
 "nbformat_minor": 0
}
