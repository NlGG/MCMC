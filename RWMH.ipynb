{
 "cells": [
  {
   "cell_type": "code",
   "execution_count": 1,
   "metadata": {
    "collapsed": true
   },
   "outputs": [],
   "source": [
    "%matplotlib inline\n",
    "\n",
    "import numpy as np\n",
    "import math\n",
    "import matplotlib.pyplot as plt"
   ]
  },
  {
   "cell_type": "markdown",
   "metadata": {},
   "source": [
    "観測されたデータ。N(5,1)から作られた10個の乱数。"
   ]
  },
  {
   "cell_type": "code",
   "execution_count": 2,
   "metadata": {
    "collapsed": false
   },
   "outputs": [],
   "source": [
    "X = np.zeros(10)\n",
    "for i in range(len(X)):\n",
    "    X[i] = np.random.normal(5,1)"
   ]
  },
  {
   "cell_type": "code",
   "execution_count": 3,
   "metadata": {
    "collapsed": false
   },
   "outputs": [
    {
     "data": {
      "text/plain": [
       "array([ 4.95914268,  4.43815974,  4.91455807,  5.18047386,  5.14188939,\n",
       "        4.87162379,  5.08660321,  4.96217241,  3.95528298,  6.24190738])"
      ]
     },
     "execution_count": 3,
     "metadata": {},
     "output_type": "execute_result"
    }
   ],
   "source": [
    "X"
   ]
  },
  {
   "cell_type": "markdown",
   "metadata": {},
   "source": [
    "[ベイズ推論]</P>\n",
    "<p>確率変数$X_1, X_2,..., X_n$が互いに独立に平均がμ、分散が1であるような正規分布に従うとする。</p>\n",
    "<p>μの事前分布にt分布を仮定する。"
   ]
  },
  {
   "cell_type": "markdown",
   "metadata": {},
   "source": [
    "<P>１　初期値μ^(0)を決め、t=1とおく。</p>\n",
    "<p>２　現在μ^(t-1)であるとき、次の点μ^tの候補μ'を$μ'$~ $N(μ^{(t-1)}, r^2)$により発生させて、$$ α(μ^{(t-1)}, μ'|x) = min \\{ 1, \\frac{π(μ')}{π(μ^{(t-1)})}\\}$$とおく。</p>\n",
    "<p>３　(0, 1)上の一様乱数uを発生させて、$$μ^{(t)}=μ' if u≤α(μ^{(t-1)}, μ'|x)のとき$$ $$μ^{(t)}=u^{(t-1)} if μ^{(t-1)}>α(μ^{(t-1)}, μ'|x)のとき$$とする。</p>\n",
    "<p>４　tをt+1として２にもどる。"
   ]
  },
  {
   "cell_type": "markdown",
   "metadata": {},
   "source": [
    "事前分布に自由度5のt分布を仮定する。r^2=0.001とする。"
   ]
  },
  {
   "cell_type": "code",
   "execution_count": 28,
   "metadata": {
    "collapsed": false
   },
   "outputs": [],
   "source": [
    "class RWMH:\n",
    "    def __init__(self, X):\n",
    "        self.mu = 2\n",
    "        self.freedom = 5.0\n",
    "        self.x_var = np.mean(X)\n",
    "        \n",
    "    def prior_dist(self, t):\n",
    "        ft = math.gamma((self.freedom+1.0)/2.0)/(math.sqrt(self.freedom*math.pi)*math.gamma((self.freedom)/2.0))*pow(1+pow(t, 2)/self.freedom, -(self.freedom+1)/2.0)\n",
    "        return ft\n",
    "        \n",
    "    def prop_dist(self):\n",
    "        self.mu = np.random.normal(self.mu, 0.5)\n",
    "        return self.mu\n",
    "    \n",
    "    def accept(self, mu_new, mu):\n",
    "        return min([1, self.prior_dist(mu_new)/self.prior_dist(mu)])\n",
    "    \n",
    "    def simulate(self):\n",
    "        mu = np.zeros(110000)\n",
    "        mu[0] = self.mu\n",
    "        for i in range(1,110000):\n",
    "            mu_new = self.prop_dist()\n",
    "            u = np.random.uniform()\n",
    "            if u <= self.accept(mu_new, mu[i-1]):\n",
    "                mu[i] = mu_new\n",
    "            else:\n",
    "                mu[i] = mu[i-1]\n",
    "            self.mu = mu[i] \n",
    "        return mu"
   ]
  },
  {
   "cell_type": "code",
   "execution_count": 29,
   "metadata": {
    "collapsed": false
   },
   "outputs": [],
   "source": [
    "rwmh = RWMH(X)"
   ]
  },
  {
   "cell_type": "code",
   "execution_count": 30,
   "metadata": {
    "collapsed": false
   },
   "outputs": [],
   "source": [
    "mu = rwmh.simulate()"
   ]
  },
  {
   "cell_type": "code",
   "execution_count": 31,
   "metadata": {
    "collapsed": false
   },
   "outputs": [
    {
     "data": {
      "text/plain": [
       "[<matplotlib.lines.Line2D at 0x111d6b690>]"
      ]
     },
     "execution_count": 31,
     "metadata": {},
     "output_type": "execute_result"
    },
    {
     "data": {
      "image/png": "[encoded data removed]",
      "text/plain": [
       "<matplotlib.figure.Figure at 0x134b21390>"
      ]
     },
     "metadata": {},
     "output_type": "display_data"
    }
   ],
   "source": [
    "plt.plot(mu)"
   ]
  },
  {
   "cell_type": "code",
   "execution_count": 32,
   "metadata": {
    "collapsed": false
   },
   "outputs": [
    {
     "data": {
      "text/plain": [
       "(array([  3.30000000e+01,   1.93000000e+02,   1.04800000e+03,\n",
       "          7.03100000e+03,   3.39110000e+04,   4.99250000e+04,\n",
       "          1.50990000e+04,   2.32600000e+03,   3.84000000e+02,\n",
       "          5.00000000e+01]),\n",
       " array([-7.37112175, -5.96329101, -4.55546028, -3.14762954, -1.73979881,\n",
       "        -0.33196808,  1.07586266,  2.48369339,  3.89152413,  5.29935486,\n",
       "         6.7071856 ]),\n",
       " <a list of 10 Patch objects>)"
      ]
     },
     "execution_count": 32,
     "metadata": {},
     "output_type": "execute_result"
    },
    {
     "data": {
      "image/png": "[encoded data removed]",
      "text/plain": [
       "<matplotlib.figure.Figure at 0x111e78a50>"
      ]
     },
     "metadata": {},
     "output_type": "display_data"
    }
   ],
   "source": [
    "plt.hist(mu)"
   ]
  },
  {
   "cell_type": "code",
   "execution_count": 16,
   "metadata": {
    "collapsed": false
   },
   "outputs": [
    {
     "data": {
      "text/plain": [
       "(array([  270700.,   469793.,   846412.,  1720708.,  2770729.,  1927362.,\n",
       "         1390430.,   945229.,   450842.,   197795.]),\n",
       " array([-0.9992088 , -0.60274931, -0.20628982,  0.19016967,  0.58662916,\n",
       "         0.98308866,  1.37954815,  1.77600764,  2.17246713,  2.56892662,\n",
       "         2.96538611]),\n",
       " <a list of 10 Patch objects>)"
      ]
     },
     "execution_count": 16,
     "metadata": {},
     "output_type": "execute_result"
    },
    {
     "data": {
      "image/png": "[encoded data removed]",
      "text/plain": [
       "<matplotlib.figure.Figure at 0x107269d10>"
      ]
     },
     "metadata": {},
     "output_type": "display_data"
    }
   ],
   "source": [
    "plt.hist(mu[10000:])"
   ]
  },
  {
   "cell_type": "code",
   "execution_count": 18,
   "metadata": {
    "collapsed": false
   },
   "outputs": [
    {
     "data": {
      "text/plain": [
       "0.93947422729157148"
      ]
     },
     "execution_count": 18,
     "metadata": {},
     "output_type": "execute_result"
    }
   ],
   "source": [
    "mu.mean()"
   ]
  },
  {
   "cell_type": "markdown",
   "metadata": {},
   "source": [
    "$\\mu$の事前分布に無情報事前分布を仮定する。"
   ]
  },
  {
   "cell_type": "code",
   "execution_count": 10,
   "metadata": {
    "collapsed": false
   },
   "outputs": [],
   "source": [
    "class RWMH:\n",
    "    def __init__(self, X):\n",
    "        self.mu = 5\n",
    "        self.x_var = np.mean(X)\n",
    "        \n",
    "    def prior_dist(self, t):\n",
    "        ft = np.random.normal(0, 10000)\n",
    "        return ft\n",
    "        \n",
    "    def prop_dist(self):\n",
    "        self.mu = np.random.normal(self.mu, 0.001)\n",
    "        return self.mu\n",
    "    \n",
    "    def accept(self, mu_new, mu):\n",
    "        return min([1, self.prior_dist(mu_new)/self.prior_dist(mu)])\n",
    "    \n",
    "    def simulate(self):\n",
    "        mu = np.zeros(11000)\n",
    "        mu[0] = self.mu\n",
    "        for i in range(1,11000):\n",
    "            mu_new = self.prop_dist()\n",
    "            u = np.random.uniform()\n",
    "            if u <= self.accept(mu_new, mu[i-1]):\n",
    "                mu[i] = mu_new\n",
    "            else:\n",
    "                mu[i] = mu[i-1]\n",
    "            self.mu = mu[i] \n",
    "        return mu"
   ]
  },
  {
   "cell_type": "code",
   "execution_count": 26,
   "metadata": {
    "collapsed": false
   },
   "outputs": [],
   "source": [
    "rwmh = RWMH(X)"
   ]
  },
  {
   "cell_type": "code",
   "execution_count": 27,
   "metadata": {
    "collapsed": false
   },
   "outputs": [],
   "source": [
    "mu = rwmh.simulate()"
   ]
  },
  {
   "cell_type": "code",
   "execution_count": 28,
   "metadata": {
    "collapsed": false
   },
   "outputs": [
    {
     "data": {
      "text/plain": [
       "[<matplotlib.lines.Line2D at 0x106d41c10>]"
      ]
     },
     "execution_count": 28,
     "metadata": {},
     "output_type": "execute_result"
    },
    {
     "data": {
      "image/png": "[encoded data removed]",
      "text/plain": [
       "<matplotlib.figure.Figure at 0x106b29e10>"
      ]
     },
     "metadata": {},
     "output_type": "display_data"
    }
   ],
   "source": [
    "plt.plot(mu)"
   ]
  },
  {
   "cell_type": "code",
   "execution_count": 29,
   "metadata": {
    "collapsed": false
   },
   "outputs": [
    {
     "data": {
      "text/plain": [
       "(array([  502.,   857.,  1945.,  1095.,  1220.,  1742.,   314.,  1111.,\n",
       "         1121.,  1093.]),\n",
       " array([ 4.96151129,  4.97011311,  4.97871493,  4.98731675,  4.99591858,\n",
       "         5.0045204 ,  5.01312222,  5.02172404,  5.03032586,  5.03892768,\n",
       "         5.0475295 ]),\n",
       " <a list of 10 Patch objects>)"
      ]
     },
     "execution_count": 29,
     "metadata": {},
     "output_type": "execute_result"
    },
    {
     "data": {
      "image/png": "[encoded data removed]",
      "text/plain": [
       "<matplotlib.figure.Figure at 0x106d664d0>"
      ]
     },
     "metadata": {},
     "output_type": "display_data"
    }
   ],
   "source": [
    "plt.hist(mu)"
   ]
  },
  {
   "cell_type": "code",
   "execution_count": 30,
   "metadata": {
    "collapsed": false
   },
   "outputs": [
    {
     "data": {
      "text/plain": [
       "(array([  502.,   857.,  1831.,   633.,   796.,  1742.,   314.,  1111.,\n",
       "         1121.,  1093.]),\n",
       " array([ 4.96151129,  4.97011311,  4.97871493,  4.98731675,  4.99591858,\n",
       "         5.0045204 ,  5.01312222,  5.02172404,  5.03032586,  5.03892768,\n",
       "         5.0475295 ]),\n",
       " <a list of 10 Patch objects>)"
      ]
     },
     "execution_count": 30,
     "metadata": {},
     "output_type": "execute_result"
    },
    {
     "data": {
      "image/png": "[encoded data removed]",
      "text/plain": [
       "<matplotlib.figure.Figure at 0x106eb6510>"
      ]
     },
     "metadata": {},
     "output_type": "display_data"
    }
   ],
   "source": [
    "plt.hist(mu[1000:])"
   ]
  },
  {
   "cell_type": "code",
   "execution_count": null,
   "metadata": {
    "collapsed": true
   },
   "outputs": [],
   "source": []
  }
 ],
 "metadata": {
  "kernelspec": {
   "display_name": "Python 2",
   "language": "python",
   "name": "python2"
  },
  "language_info": {
   "codemirror_mode": {
    "name": "ipython",
    "version": 2
   },
   "file_extension": ".py",
   "mimetype": "text/x-python",
   "name": "python",
   "nbconvert_exporter": "python",
   "pygments_lexer": "ipython2",
   "version": "2.7.11"
  }
 },
 "nbformat": 4,
 "nbformat_minor": 0
}
