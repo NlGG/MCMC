{
 "cells": [
  {
   "cell_type": "code",
   "execution_count": 1,
   "metadata": {
    "collapsed": false,
    "scrolled": true
   },
   "outputs": [
    {
     "name": "stderr",
     "output_type": "stream",
     "text": [
      "INFO: Precompiling module Compose...\n",
      "INFO: Precompiling module Gadfly...\n",
      "INFO: Recompiling stale cache file /Users/NIGG/.julia/lib/v0.4/DataFrames.ji for module DataFrames.\n",
      "INFO: Recompiling stale cache file /Users/NIGG/.julia/lib/v0.4/KernelDensity.ji for module KernelDensity.\n"
     ]
    }
   ],
   "source": [
    "using Mamba"
   ]
  },
  {
   "cell_type": "code",
   "execution_count": 2,
   "metadata": {
    "collapsed": false
   },
   "outputs": [
    {
     "data": {
      "text/plain": [
       "Object of type \"Mamba.Model\"\n",
       "-------------------------------------------------------------------------------\n",
       "y:\n",
       "An unmonitored node of type \"0-element Mamba.ArrayStochastic{1}\"\n",
       "Float64[]\n",
       "-------------------------------------------------------------------------------\n",
       "s2:\n",
       "A monitored node of type \"Mamba.ScalarStochastic\"\n",
       "NaN\n",
       "-------------------------------------------------------------------------------\n",
       "beta:\n",
       "A monitored node of type \"0-element Mamba.ArrayStochastic{1}\"\n",
       "Float64[]\n",
       "-------------------------------------------------------------------------------\n",
       "mu:\n",
       "An unmonitored node of type \"0-element Mamba.ArrayLogical{1}\"\n",
       "Float64[]\n"
      ]
     },
     "execution_count": 2,
     "metadata": {},
     "output_type": "execute_result"
    }
   ],
   "source": [
    "model = Model(\n",
    "\n",
    "  y = Stochastic(1,\n",
    "    (mu, s2) ->  MvNormal(mu, sqrt(s2)),\n",
    "    false\n",
    "  ),\n",
    "\n",
    "  mu = Logical(1,\n",
    "    (xmat, beta) -> xmat * beta,\n",
    "    false\n",
    "  ),\n",
    "\n",
    "  beta = Stochastic(1,\n",
    "    () -> MvNormal(2, sqrt(1000))\n",
    "  ),\n",
    "\n",
    "  s2 = Stochastic(\n",
    "    () -> InverseGamma(0.001, 0.001)\n",
    "  )\n",
    "\n",
    ")"
   ]
  },
  {
   "cell_type": "code",
   "execution_count": 3,
   "metadata": {
    "collapsed": false
   },
   "outputs": [
    {
     "data": {
      "text/plain": [
       "0-element Mamba.ArrayStochastic{1}"
      ]
     },
     "execution_count": 3,
     "metadata": {},
     "output_type": "execute_result"
    }
   ],
   "source": [
    "# Case 1: Multivariate Normal with independence covariance matrix\n",
    "beta = Stochastic(1,\n",
    "  () -> MvNormal(2, sqrt(1000))\n",
    ")\n",
    "\n",
    "# Case 2: One common univariate Normal\n",
    "beta = Stochastic(1,\n",
    "  () -> Normal(0, sqrt(1000))\n",
    ")\n",
    "\n",
    "# Case 3: Array of univariate Normals\n",
    "beta = Stochastic(1,\n",
    "  () -> UnivariateDistribution[Normal(0, sqrt(1000)), Normal(0, sqrt(1000))]\n",
    ")\n",
    "\n",
    "# Case 4: Array of univariate Normals\n",
    "beta = Stochastic(1,\n",
    "  () -> UnivariateDistribution[Normal(0, sqrt(1000)) for i in 1:2]\n",
    ")"
   ]
  },
  {
   "cell_type": "code",
   "execution_count": 4,
   "metadata": {
    "collapsed": false
   },
   "outputs": [
    {
     "data": {
      "text/plain": [
       "1-element Array{Mamba.Sampler{Mamba.NUTSTune},1}:\n",
       " An object of type \"Mamba.Sampler{Mamba.NUTSTune}\"\n",
       "Sampling Block Nodes:\n",
       "[:beta,:s2]\n",
       "\n",
       "AST(:($(Expr(:lambda, Any[:(model::Model),:(block::Integer)], Any[Any[Any[:model,:Any,18],Any[:block,:Any,18],Any[:f,:Any,18]],Any[],0,Any[]], :(begin \n",
       "        model = (top(typeassert))(model,Mamba.Model)\n",
       "        block = (top(typeassert))(block,Mamba.Integer)\n",
       "        f = (anonymous function)\n",
       "        return f(model,block)\n",
       "    end)))))\n"
      ]
     },
     "execution_count": 4,
     "metadata": {},
     "output_type": "execute_result"
    }
   ],
   "source": [
    "## Hybrid No-U-Turn and Slice Sampling Scheme\n",
    "scheme1 = [NUTS(:beta),\n",
    "           Slice(:s2, 3.0)]\n",
    "\n",
    "## No-U-Turn Sampling Scheme\n",
    "scheme2 = [NUTS([:beta, :s2])]"
   ]
  },
  {
   "cell_type": "code",
   "execution_count": 5,
   "metadata": {
    "collapsed": false
   },
   "outputs": [
    {
     "data": {
      "text/plain": [
       "2-element Array{Mamba.Sampler{Dict{Any,Any}},1}:\n",
       " An object of type \"Mamba.Sampler{Dict{Any,Any}}\"\n",
       "Sampling Block Nodes:\n",
       "[:beta]\n",
       "\n",
       "AST(:($(Expr(:lambda, Any[:(model::Model),:(block::Integer)], Any[Any[Any[:model,:Any,18],Any[:block,:Any,18],Any[:f,:Any,18]],Any[],0,Any[]], :(begin \n",
       "        model = (top(typeassert))(model,Mamba.Model)\n",
       "        block = (top(typeassert))(block,Mamba.Integer)\n",
       "        f = (anonymous function)\n",
       "        return f((Mamba.getindex)(model,:beta),(Mamba.getindex)(model,:s2),(Mamba.getindex)(model,:xmat),(Mamba.getindex)(model,:y))\n",
       "    end)))))\n",
       "\n",
       " An object of type \"Mamba.Sampler{Dict{Any,Any}}\"\n",
       "Sampling Block Nodes:\n",
       "[:s2]\n",
       "\n",
       "AST(:($(Expr(:lambda, Any[:(model::Model),:(block::Integer)], Any[Any[Any[:model,:Any,18],Any[:block,:Any,18],Any[:f,:Any,18]],Any[],0,Any[]], :(begin \n",
       "        model = (top(typeassert))(model,Mamba.Model)\n",
       "        block = (top(typeassert))(block,Mamba.Integer)\n",
       "        f = (anonymous function)\n",
       "        return f((Mamba.getindex)(model,:mu),(Mamba.getindex)(model,:s2),(Mamba.getindex)(model,:y))\n",
       "    end)))))\n",
       "                                  "
      ]
     },
     "execution_count": 5,
     "metadata": {},
     "output_type": "execute_result"
    }
   ],
   "source": [
    "## User-Defined Samplers\n",
    "\n",
    "Gibbs_beta = Sampler([:beta],\n",
    "  (beta, s2, xmat, y) ->\n",
    "    begin\n",
    "      beta_mean = mean(beta.distr)\n",
    "      beta_invcov = invcov(beta.distr)\n",
    "      Sigma = inv(xmat' * xmat / s2 + beta_invcov)\n",
    "      mu = Sigma * (xmat' * y / s2 + beta_invcov * beta_mean)\n",
    "      rand(MvNormal(mu, Sigma))\n",
    "    end\n",
    ")\n",
    "\n",
    "Gibbs_s2 = Sampler([:s2],\n",
    "  (mu, s2, y) ->\n",
    "    begin\n",
    "      a = length(y) / 2.0 + shape(s2.distr)\n",
    "      b = sumabs2(y - mu) / 2.0 + scale(s2.distr)\n",
    "      rand(InverseGamma(a, b))\n",
    "    end\n",
    ")\n",
    "\n",
    "## User-Defined Sampling Scheme\n",
    "scheme3 = [Gibbs_beta, Gibbs_s2]"
   ]
  },
  {
   "cell_type": "code",
   "execution_count": 6,
   "metadata": {
    "collapsed": false
   },
   "outputs": [
    {
     "ename": "LoadError",
     "evalue": "LoadError: syntax: \">>>\" is not a unary operator\nwhile loading In[6], in expression starting on line 3",
     "output_type": "error",
     "traceback": [
      "LoadError: syntax: \">>>\" is not a unary operator\nwhile loading In[6], in expression starting on line 3",
      ""
     ]
    }
   ],
   "source": [
    "## Graph Representation of Nodes\n",
    "\n",
    ">>> draw(model)\n",
    "\n",
    "digraph MambaModel {\n",
    "  \"mu\" [shape=\"diamond\", fillcolor=\"gray85\", style=\"filled\"];\n",
    "    \"mu\" -> \"y\";\n",
    "  \"xmat\" [shape=\"box\", fillcolor=\"gray85\", style=\"filled\"];\n",
    "    \"xmat\" -> \"mu\";\n",
    "  \"beta\" [shape=\"ellipse\"];\n",
    "    \"beta\" -> \"mu\";\n",
    "  \"s2\" [shape=\"ellipse\"];\n",
    "    \"s2\" -> \"y\";\n",
    "  \"y\" [shape=\"ellipse\", fillcolor=\"gray85\", style=\"filled\"];\n",
    "}\n",
    "\n",
    ">>> draw(model, filename=\"lineDAG.dot\")"
   ]
  },
  {
   "cell_type": "code",
   "execution_count": 10,
   "metadata": {
    "collapsed": false
   },
   "outputs": [],
   "source": [
    "using GraphViz\n"
   ]
  },
  {
   "cell_type": "code",
   "execution_count": 11,
   "metadata": {
    "collapsed": false
   },
   "outputs": [
    {
     "name": "stderr",
     "output_type": "stream",
     "text": [
      "Warning: Could not load \"/Users/NIGG/.julia/v0.4/Homebrew/deps/usr/lib/graphviz/libgvplugin_neato_layout.6.dylib\" - file not found\n",
      "Error: Layout type: \"neato\" not recognized. Use one of: circo dot fdp neato nop nop1 nop2 osage patchwork sfdp twopi\n",
      "Error: Layout was not done\n",
      "Error: Layout was not done\n"
     ]
    }
   ],
   "source": [
    "display(Graph(graph2dot(model)))"
   ]
  },
  {
   "cell_type": "code",
   "execution_count": 12,
   "metadata": {
    "collapsed": false
   },
   "outputs": [
    {
     "data": {
      "text/plain": [
       "5x2 Array{Float64,2}:\n",
       " 1.0  1.0\n",
       " 1.0  2.0\n",
       " 1.0  3.0\n",
       " 1.0  4.0\n",
       " 1.0  5.0"
      ]
     },
     "execution_count": 12,
     "metadata": {},
     "output_type": "execute_result"
    }
   ],
   "source": [
    "## Data\n",
    "line = Dict{Symbol, Any}(\n",
    "  :x => [1, 2, 3, 4, 5],\n",
    "  :y => [1, 3, 3, 3, 5]\n",
    ")\n",
    "line[:xmat] = [ones(5) line[:x]]"
   ]
  },
  {
   "cell_type": "code",
   "execution_count": 13,
   "metadata": {
    "collapsed": false
   },
   "outputs": [
    {
     "data": {
      "text/plain": [
       "3-element Array{Dict{Symbol,Any},1}:\n",
       " Dict{Symbol,Any}(:y=>[1,3,3,3,5],:s2=>0.36645899740731525,:beta=>[0.5610846997912224,1.367308899146061]) \n",
       " Dict{Symbol,Any}(:y=>[1,3,3,3,5],:s2=>5.3316567000392,:beta=>[0.44521596790502194,-0.8789350648786844])  \n",
       " Dict{Symbol,Any}(:y=>[1,3,3,3,5],:s2=>1.4176932425242237,:beta=>[1.0365520530764907,-0.9222041999405783])"
      ]
     },
     "execution_count": 13,
     "metadata": {},
     "output_type": "execute_result"
    }
   ],
   "source": [
    "## Initial Values\n",
    "inits = [\n",
    "  Dict{Symbol, Any}(\n",
    "    :y => line[:y],\n",
    "    :beta => rand(Normal(0, 1), 2),\n",
    "    :s2 => rand(Gamma(1, 1))\n",
    "  )\n",
    "for i in 1:3\n",
    "]"
   ]
  },
  {
   "cell_type": "code",
   "execution_count": 14,
   "metadata": {
    "collapsed": false
   },
   "outputs": [
    {
     "name": "stdout",
     "output_type": "stream",
     "text": [
      "MCMC Simulation of 10000 Iterations x 3 Chains...\n",
      "\n",
      "Chain 1:   0% [0:40:12 of 0:40:15 remaining]\n",
      "Chain 1:  10% [0:00:31 of 0:00:35 remaining]\n",
      "Chain 1:  20% [0:00:17 of 0:00:21 remaining]\n",
      "Chain 1:  30% [0:00:12 of 0:00:17 remaining]\n",
      "Chain 1:  40% [0:00:09 of 0:00:14 remaining]\n",
      "Chain 1:  50% [0:00:07 of 0:00:13 remaining]\n",
      "Chain 1:  60% [0:00:05 of 0:00:12 remaining]\n",
      "Chain 1:  70% [0:00:04 of 0:00:12 remaining]\n",
      "Chain 1:  80% [0:00:02 of 0:00:11 remaining]\n",
      "Chain 1:  90% [0:00:01 of 0:00:11 remaining]\n",
      "Chain 1: 100% [0:00:00 of 0:00:10 remaining]\n",
      "\n",
      "Chain 2:   0% [0:00:09 of 0:00:09 remaining]\n",
      "Chain 2:  10% [0:00:06 of 0:00:07 remaining]\n",
      "Chain 2:  20% [0:00:10 of 0:00:12 remaining]\n",
      "Chain 2:  30% [0:00:08 of 0:00:11 remaining]\n",
      "Chain 2:  40% [0:00:06 of 0:00:10 remaining]\n",
      "Chain 2:  50% [0:00:05 of 0:00:10 remaining]\n",
      "Chain 2:  60% [0:00:04 of 0:00:09 remaining]\n",
      "Chain 2:  70% [0:00:03 of 0:00:09 remaining]\n",
      "Chain 2:  80% [0:00:02 of 0:00:09 remaining]\n",
      "Chain 2:  90% [0:00:01 of 0:00:10 remaining]\n",
      "Chain 2: 100% [0:00:00 of 0:00:10 remaining]\n",
      "\n",
      "Chain 3:   0% [0:00:06 of 0:00:06 remaining]\n",
      "Chain 3:  10% [0:00:06 of 0:00:06 remaining]\n",
      "Chain 3:  20% [0:00:05 of 0:00:06 remaining]\n",
      "Chain 3:  30% [0:00:04 of 0:00:06 remaining]\n",
      "Chain 3:  40% [0:00:03 of 0:00:06 remaining]\n",
      "Chain 3:  50% [0:00:03 of 0:00:06 remaining]\n",
      "Chain 3:  60% [0:00:02 of 0:00:06 remaining]\n",
      "Chain 3:  70% [0:00:02 of 0:00:06 remaining]\n",
      "Chain 3:  80% [0:00:01 of 0:00:07 remaining]\n",
      "Chain 3:  90% [0:00:01 of 0:00:07 remaining]\n",
      "Chain 3: 100% [0:00:00 of 0:00:07 remaining]\n",
      "\n",
      "MCMC Simulation of 10000 Iterations x 3 Chains...\n",
      "\n",
      "Chain 1:   0% [0:00:48 of 0:00:48 remaining]\n",
      "Chain 1:  10% [0:00:10 of 0:00:11 remaining]\n",
      "Chain 1:  20% [0:00:08 of 0:00:09 remaining]\n",
      "Chain 1:  30% [0:00:06 of 0:00:08 remaining]\n",
      "Chain 1:  40% [0:00:05 of 0:00:08 remaining]\n",
      "Chain 1:  50% [0:00:04 of 0:00:09 remaining]\n",
      "Chain 1:  60% [0:00:04 of 0:00:09 remaining]\n",
      "Chain 1:  70% [0:00:03 of 0:00:09 remaining]\n",
      "Chain 1:  80% [0:00:02 of 0:00:09 remaining]\n",
      "Chain 1:  90% [0:00:01 of 0:00:09 remaining]\n",
      "Chain 1: 100% [0:00:00 of 0:00:09 remaining]\n",
      "\n",
      "Chain 2:   0% [0:00:22 of 0:00:22 remaining]\n",
      "Chain 2:  10% [0:00:11 of 0:00:12 remaining]\n",
      "Chain 2:  20% [0:00:09 of 0:00:11 remaining]\n",
      "Chain 2:  30% [0:00:08 of 0:00:11 remaining]\n",
      "Chain 2:  40% [0:00:07 of 0:00:11 remaining]\n",
      "Chain 2:  50% [0:00:05 of 0:00:11 remaining]\n",
      "Chain 2:  60% [0:00:04 of 0:00:11 remaining]\n",
      "Chain 2:  70% [0:00:03 of 0:00:11 remaining]\n",
      "Chain 2:  80% [0:00:02 of 0:00:11 remaining]\n",
      "Chain 2:  90% [0:00:01 of 0:00:11 remaining]\n",
      "Chain 2: 100% [0:00:00 of 0:00:11 remaining]\n",
      "\n",
      "Chain 3:   0% [0:00:16 of 0:00:16 remaining]\n",
      "Chain 3:  10% [0:00:11 of 0:00:13 remaining]\n",
      "Chain 3:  20% [0:00:11 of 0:00:13 remaining]\n",
      "Chain 3:  30% [0:00:09 of 0:00:13 remaining]\n",
      "Chain 3:  40% [0:00:08 of 0:00:13 remaining]\n",
      "Chain 3:  50% [0:00:07 of 0:00:13 remaining]\n",
      "Chain 3:  60% [0:00:06 of 0:00:14 remaining]\n",
      "Chain 3:  70% [0:00:04 of 0:00:14 remaining]\n",
      "Chain 3:  80% [0:00:03 of 0:00:14 remaining]\n",
      "Chain 3:  90% [0:00:01 of 0:00:14 remaining]\n",
      "Chain 3: 100% [0:00:00 of 0:00:14 remaining]\n",
      "\n",
      "MCMC Simulation of 10000 Iterations x 3 Chains...\n",
      "\n",
      "Chain 1:   0% [0:11:21 of 0:11:22 remaining]\n",
      "Chain 1:  10% [0:00:07 of 0:00:07 remaining]\n",
      "Chain 1:  20% [0:00:03 of 0:00:04 remaining]\n",
      "Chain 1:  30% [0:00:02 of 0:00:03 remaining]\n",
      "Chain 1:  40% [0:00:01 of 0:00:02 remaining]\n",
      "Chain 1:  50% [0:00:01 of 0:00:02 remaining]\n",
      "Chain 1:  60% [0:00:01 of 0:00:02 remaining]\n",
      "Chain 1:  70% [0:00:00 of 0:00:02 remaining]\n",
      "Chain 1:  80% [0:00:00 of 0:00:01 remaining]\n",
      "Chain 1:  90% [0:00:00 of 0:00:01 remaining]\n",
      "Chain 1: 100% [0:00:00 of 0:00:01 remaining]\n",
      "\n",
      "Chain 2:   0% [0:00:01 of 0:00:01 remaining]\n",
      "Chain 2:  10% [0:00:00 of 0:00:01 remaining]\n",
      "Chain 2:  20% [0:00:00 of 0:00:01 remaining]\n",
      "Chain 2:  30% [0:00:00 of 0:00:01 remaining]\n",
      "Chain 2:  40% [0:00:00 of 0:00:01 remaining]\n",
      "Chain 2:  50% [0:00:00 of 0:00:01 remaining]\n",
      "Chain 2:  60% [0:00:00 of 0:00:01 remaining]\n",
      "Chain 2:  70% [0:00:00 of 0:00:01 remaining]\n",
      "Chain 2:  80% [0:00:00 of 0:00:01 remaining]\n",
      "Chain 2:  90% [0:00:00 of 0:00:01 remaining]\n",
      "Chain 2: 100% [0:00:00 of 0:00:01 remaining]\n",
      "\n",
      "Chain 3:   0% [0:00:01 of 0:00:01 remaining]\n",
      "Chain 3:  10% [0:00:01 of 0:00:01 remaining]\n",
      "Chain 3:  20% [0:00:00 of 0:00:01 remaining]\n",
      "Chain 3:  30% [0:00:00 of 0:00:01 remaining]\n",
      "Chain 3:  40% [0:00:00 of 0:00:01 remaining]\n",
      "Chain 3:  50% [0:00:00 of 0:00:01 remaining]\n",
      "Chain 3:  60% [0:00:00 of 0:00:01 remaining]\n",
      "Chain 3:  70% [0:00:00 of 0:00:01 remaining]\n",
      "Chain 3:  80% [0:00:00 of 0:00:01 remaining]\n",
      "Chain 3:  90% [0:00:00 of 0:00:01 remaining]\n",
      "Chain 3: 100% [0:00:00 of 0:00:01 remaining]\n",
      "\n"
     ]
    },
    {
     "data": {
      "text/plain": [
       "Object of type \"Mamba.ModelChains\"\n",
       "\n",
       "Iterations = 252:10000\n",
       "Thinning interval = 2\n",
       "Chains = 1,2,3\n",
       "Samples per chain = 4875\n",
       "\n",
       "4875x3x3 Array{Float64,3}:\n",
       "[:, :, 1] =\n",
       " -0.420409   0.966174  1.72495 \n",
       " -2.62584    1.98674   7.10747 \n",
       "  0.184019   1.11658   0.457038\n",
       "  1.10798    0.708448  0.592361\n",
       "  1.89388    0.898197  1.69327 \n",
       "  0.645553   0.878223  0.119913\n",
       " -0.414345   1.08854   0.493007\n",
       "  0.0181287  0.914951  0.352161\n",
       "  1.0639     0.589027  1.02145 \n",
       "  0.748179   0.701935  2.89631 \n",
       " -0.643133   0.706209  4.24702 \n",
       "  1.52024    0.646727  0.690471\n",
       "  0.363537   0.696997  1.78172 \n",
       "  ⋮                            \n",
       " -0.5965     1.26881   1.50217 \n",
       "  1.38572    0.555554  0.360549\n",
       "  1.00497    0.730194  1.64877 \n",
       "  1.12806    0.756175  0.275413\n",
       "  0.5713     0.870993  0.205924\n",
       "  1.11759    0.613436  0.220883\n",
       "  0.0203204  0.817948  0.85294 \n",
       " -0.661105   1.08493   0.511444\n",
       "  1.41432    0.763788  1.28015 \n",
       "  0.932881   0.703351  0.190952\n",
       "  2.14813    0.336995  0.40045 \n",
       "  0.0957242  0.925747  0.336593\n",
       "\n",
       "[:, :, 2] =\n",
       "  0.94085     0.808655   0.993335\n",
       "  0.703382    0.888404   1.2158  \n",
       "  1.50681     0.799883   2.61313 \n",
       " -5.49366     2.39191   12.6404  \n",
       "  0.317417    1.00659    0.812829\n",
       " -0.235345    0.818124   1.27883 \n",
       " -0.551744    1.26407    0.375032\n",
       "  1.93866     0.542597   0.84325 \n",
       "  1.29006     0.741917   1.4699  \n",
       "  1.22344     0.606113   0.239373\n",
       " -0.842651    1.04177    0.832042\n",
       "  1.56818     0.483316   0.869949\n",
       "  0.409734    0.676249   0.392041\n",
       "  ⋮                              \n",
       "  2.91479     0.310201   1.16461 \n",
       "  0.352891    1.02894    0.876242\n",
       "  0.59        0.734008   0.528038\n",
       "  0.703523    0.669258   2.67323 \n",
       "  1.40019     0.596213   2.00932 \n",
       "  3.32121    -0.123145   2.88867 \n",
       " -0.753193    1.08428    0.9753  \n",
       " -1.15292     1.67788    5.04802 \n",
       "  0.959365    0.545122   6.26124 \n",
       "  0.136941    0.96623    0.270081\n",
       " -0.0330656   0.901515   0.588993\n",
       "  1.15097     0.729164   0.511742\n",
       "\n",
       "[:, :, 3] =\n",
       "  1.34351    0.448305  0.610983\n",
       " -0.144313   0.878591  1.14673 \n",
       "  0.759355   0.80757   0.191166\n",
       "  2.38406    0.572892  1.83471 \n",
       "  0.221619   0.638931  1.13106 \n",
       " -1.29845    1.19435   2.11229 \n",
       "  1.46894    0.648713  0.285005\n",
       "  0.575549   0.819351  0.399886\n",
       "  1.42616    0.613032  0.274767\n",
       "  0.874146   0.747119  1.05359 \n",
       "  0.0785827  0.971286  0.338404\n",
       "  1.32443    0.677426  0.469907\n",
       "  0.668622   0.834381  0.389327\n",
       "  ⋮                            \n",
       "  0.408676   0.905612  0.318454\n",
       "  0.519571   0.838349  0.327367\n",
       " -0.119932   0.876436  0.745195\n",
       " -0.139899   1.1401    1.04643 \n",
       "  1.54368    0.473723  1.94993 \n",
       "  1.55047    0.50599   0.620884\n",
       "  0.142783   1.11767   0.829845\n",
       "  0.945249   0.762506  0.344352\n",
       " -3.08018    1.90229   2.50383 \n",
       "  0.681842   0.803082  0.865121\n",
       "  2.53914    0.242546  1.36315 \n",
       " -0.319353   1.00479   0.420861"
      ]
     },
     "execution_count": 14,
     "metadata": {},
     "output_type": "execute_result"
    }
   ],
   "source": [
    "## MCMC Simulations\n",
    "\n",
    "setsamplers!(model, scheme1)\n",
    "sim1 = mcmc(model, line, inits, 10000, burnin=250, thin=2, chains=3)\n",
    "\n",
    "setsamplers!(model, scheme2)\n",
    "sim2 = mcmc(model, line, inits, 10000, burnin=250, thin=2, chains=3)\n",
    "\n",
    "setsamplers!(model, scheme3)\n",
    "sim3 = mcmc(model, line, inits, 10000, burnin=250, thin=2, chains=3)"
   ]
  },
  {
   "cell_type": "code",
   "execution_count": 15,
   "metadata": {
    "collapsed": false
   },
   "outputs": [
    {
     "name": "stdout",
     "output_type": "stream",
     "text": [
      "Iterations = 252:10000\n",
      "Thinning interval = 2\n",
      "Chains = 1,2,3\n",
      "Samples per chain = 4875\n",
      "\n",
      "Gelman, Rubin, and Brooks Diagnostic:\n",
      "              PSRF 97.5%\n",
      "     beta[1] 1.004 1.004\n",
      "     beta[2] 1.005 1.005\n",
      "          s2 1.006 1.013\n",
      "Multivariate 1.005   NaN\n",
      "\n"
     ]
    }
   ],
   "source": [
    "gelmandiag(sim1, mpsrf=true, transform=true) |> showall"
   ]
  },
  {
   "cell_type": "code",
   "execution_count": 16,
   "metadata": {
    "collapsed": false
   },
   "outputs": [
    {
     "name": "stdout",
     "output_type": "stream",
     "text": [
      "Iterations = 252:10000\n",
      "Thinning interval = 2\n",
      "Chains = 1,2,3\n",
      "Samples per chain = 4875\n",
      "\n",
      "Geweke Diagnostic:\n",
      "First Window Fraction = 0.1\n",
      "Second Window Fraction = 0.5\n",
      "\n",
      "        Z-score p-value\n",
      "beta[1]   0.135  0.8922\n",
      "beta[2]  -0.342  0.7320\n",
      "     s2   1.700  0.0891\n",
      "\n",
      "        Z-score p-value\n",
      "beta[1]   0.415  0.6781\n",
      "beta[2]  -0.299  0.7647\n",
      "     s2  -1.504  0.1327\n",
      "\n",
      "        Z-score p-value\n",
      "beta[1]  -0.257  0.7975\n",
      "beta[2]   0.834  0.4043\n",
      "     s2  -1.236  0.2165\n",
      "\n"
     ]
    }
   ],
   "source": [
    "gewekediag(sim1) |> showall"
   ]
  },
  {
   "cell_type": "code",
   "execution_count": 17,
   "metadata": {
    "collapsed": false
   },
   "outputs": [
    {
     "name": "stdout",
     "output_type": "stream",
     "text": [
      "Iterations = 252:10000\n",
      "Thinning interval = 2\n",
      "Chains = 1,2,3\n",
      "Samples per chain = 4875\n",
      "\n",
      "Heidelberger and Welch Diagnostic:\n",
      "Target Halfwidth Ratio = 0.1\n",
      "Alpha = 0.05\n",
      "\n",
      "        Burn-in Stationarity p-value    Mean     Halfwidth  Test\n",
      "beta[1]     251            1  0.4857  0.6271229 0.059607943    1\n",
      "beta[2]     251            1  0.5823  0.7932595 0.017043466    1\n",
      "     s2     251            1  0.0900  1.1893637 0.181081018    0\n",
      "\n",
      "        Burn-in Stationarity p-value    Mean     Halfwidth  Test\n",
      "beta[1]     251            1  0.9097  0.6088265 0.066213288    0\n",
      "beta[2]     251            1  0.9391  0.7989795 0.018619125    1\n",
      "     s2    1225            1  0.2215  1.1332336 0.194114662    0\n",
      "\n",
      "        Burn-in Stationarity p-value    Mean     Halfwidth  Test\n",
      "beta[1]     251            1  0.5733 0.59859523 0.066334119    0\n",
      "beta[2]     251            1  0.3998 0.80441214 0.019121652    1\n",
      "     s2     251            1  0.6029 1.51332099 0.709998937    0\n",
      "\n"
     ]
    }
   ],
   "source": [
    "heideldiag(sim1) |> showall"
   ]
  },
  {
   "cell_type": "code",
   "execution_count": 18,
   "metadata": {
    "collapsed": false
   },
   "outputs": [
    {
     "name": "stdout",
     "output_type": "stream",
     "text": [
      "Iterations = 252:10000\n",
      "Thinning interval = 2\n",
      "Chains = 1,2,3\n",
      "Samples per chain = 4875\n",
      "\n",
      "Raftery and Lewis Diagnostic:\n",
      "Quantile (q) = 0.025\n",
      "Accuracy (r) = 0.005\n",
      "Probability (s) = 0.95\n",
      "\n",
      "        Thinning Burn-in    Total   Nmin Dependence Factor\n",
      "beta[1]        2     271 2.1459×10⁴ 3746         5.7285104\n",
      "beta[2]        4     271 2.4215×10⁴ 3746         6.4642285\n",
      "     s2        2     257 8.2730×10³ 3746         2.2084891\n",
      "\n",
      "        Thinning Burn-in    Total   Nmin Dependence Factor\n",
      "beta[1]        6     275 2.6597×10⁴ 3746         7.1001068\n",
      "beta[2]        4     267 1.9679×10⁴ 3746         5.2533369\n",
      "     s2        2     257 8.6890×10³ 3746         2.3195408\n",
      "\n",
      "        Thinning Burn-in    Total   Nmin Dependence Factor\n",
      "beta[1]        2     267 1.7897×10⁴ 3746         4.7776295\n",
      "beta[2]        4     271 2.4775×10⁴ 3746         6.6137213\n",
      "     s2        2     257 8.2730×10³ 3746         2.2084891\n",
      "\n"
     ]
    }
   ],
   "source": [
    "rafterydiag(sim1) |> showall"
   ]
  },
  {
   "cell_type": "code",
   "execution_count": 19,
   "metadata": {
    "collapsed": false
   },
   "outputs": [
    {
     "name": "stdout",
     "output_type": "stream",
     "text": [
      "Iterations = 252:10000\n",
      "Thinning interval = 2\n",
      "Chains = 1,2,3\n",
      "Samples per chain = 4875\n",
      "\n",
      "Empirical Posterior Estimates:\n",
      "           Mean        SD       Naive SE       MCSE        ESS   \n",
      "beta[1] 0.61151487 1.24763621 0.0103166817 0.016697744 4875.00000\n",
      "beta[2] 0.79888373 0.38007294 0.0031428164 0.004719440 4875.00000\n",
      "     s2 1.49680310 2.88662973 0.0238694902 0.187938681  235.91188\n",
      "\n",
      "Quantiles:\n",
      "            2.5%        25.0%       50.0%     75.0%     97.5% \n",
      "beta[1] -1.972107794 0.009179614 0.59713024 1.2207792 3.092993\n",
      "beta[2]  0.040674834 0.621236739 0.80190294 0.9807751 1.566160\n",
      "     s2  0.173057759 0.391739202 0.68072071 1.3485452 8.864448\n",
      "\n"
     ]
    }
   ],
   "source": [
    "describe(sim1)"
   ]
  },
  {
   "cell_type": "code",
   "execution_count": 20,
   "metadata": {
    "collapsed": false
   },
   "outputs": [
    {
     "data": {
      "text/plain": [
       "          95% Lower  95% Upper\n",
       "beta[1] -1.973328999 3.0916141\n",
       "beta[2]  0.006852965 1.5179636\n",
       "     s2  0.073655658 5.1566056\n",
       "\n"
      ]
     },
     "execution_count": 20,
     "metadata": {},
     "output_type": "execute_result"
    }
   ],
   "source": [
    "hpd(sim1)"
   ]
  },
  {
   "cell_type": "code",
   "execution_count": 21,
   "metadata": {
    "collapsed": false
   },
   "outputs": [
    {
     "data": {
      "text/plain": [
       "           beta[1]      beta[2]        s2     \n",
       "beta[1]  1.000000000 -0.901780218  0.017214835\n",
       "beta[2] -0.901780218  1.000000000 -0.029389504\n",
       "     s2  0.017214835 -0.029389504  1.000000000\n",
       "\n"
      ]
     },
     "execution_count": 21,
     "metadata": {},
     "output_type": "execute_result"
    }
   ],
   "source": [
    "cor(sim1)"
   ]
  },
  {
   "cell_type": "code",
   "execution_count": 22,
   "metadata": {
    "collapsed": false
   },
   "outputs": [
    {
     "data": {
      "text/plain": [
       "           Lag 2       Lag 10       Lag 20       Lag 100   \n",
       "beta[1] 0.29533458  -0.051111514 -0.017586327 -0.0131754123\n",
       "beta[2] 0.24282346  -0.044766491 -0.042868878 -0.0155397097\n",
       "     s2 0.80240506   0.341014367  0.090544986  0.0154897833\n",
       "\n",
       "           Lag 2       Lag 10       Lag 20       Lag 100   \n",
       "beta[1] 0.22007187   0.011872593  -0.06511239  -0.017041782\n",
       "beta[2] 0.18587338   0.043978609  -0.06927239  -0.019477807\n",
       "     s2 0.96061224   0.887534805   0.83600567   0.322968387\n",
       "\n",
       "           Lag 2       Lag 10       Lag 20       Lag 100   \n",
       "beta[1] 0.27125833  0.0014862231 0.0029120077  -0.019160270\n",
       "beta[2] 0.23685932 -0.0142373274 0.0279196839  -0.014282321\n",
       "     s2 0.93619518  0.7768844948 0.6697718566   0.011127104\n",
       "\n"
      ]
     },
     "execution_count": 22,
     "metadata": {},
     "output_type": "execute_result"
    }
   ],
   "source": [
    "autocor(sim1)"
   ]
  },
  {
   "cell_type": "code",
   "execution_count": 23,
   "metadata": {
    "collapsed": false
   },
   "outputs": [
    {
     "data": {
      "text/plain": [
       "             Change Rate\n",
       "     beta[1]       0.869\n",
       "     beta[2]       0.869\n",
       "          s2       1.000\n",
       "Multivariate       1.000\n",
       "\n"
      ]
     },
     "execution_count": 23,
     "metadata": {},
     "output_type": "execute_result"
    }
   ],
   "source": [
    "changerate(sim1)"
   ]
  },
  {
   "cell_type": "code",
   "execution_count": 24,
   "metadata": {
    "collapsed": false
   },
   "outputs": [
    {
     "name": "stdout",
     "output_type": "stream",
     "text": [
      "MCMC Processing of 4875 Iterations x 3 Chains...\n",
      "\n",
      "Chain 1:   0% [0:01:59 of 0:01:60 remaining]\n",
      "Chain 1:  10% [0:00:02 of 0:00:03 remaining]\n",
      "Chain 1:  20% [0:00:01 of 0:00:01 remaining]\n",
      "Chain 1:  30% [0:00:01 of 0:00:01 remaining]\n",
      "Chain 1:  40% [0:00:00 of 0:00:01 remaining]\n",
      "Chain 1:  50% [0:00:00 of 0:00:01 remaining]\n",
      "Chain 1:  60% [0:00:00 of 0:00:01 remaining]\n",
      "Chain 1:  70% [0:00:00 of 0:00:00 remaining]\n",
      "Chain 1:  80% [0:00:00 of 0:00:00 remaining]\n",
      "Chain 1:  90% [0:00:00 of 0:00:00 remaining]\n",
      "Chain 1: 100% [0:00:00 of 0:00:00 remaining]\n",
      "\n",
      "Chain 2:   0% [0:03:13 of 0:03:13 remaining]\n",
      "Chain 2:  10% [0:00:04 of 0:00:04 remaining]\n",
      "Chain 2:  20% [0:00:02 of 0:00:02 remaining]\n",
      "Chain 2:  30% [0:00:01 of 0:00:01 remaining]\n",
      "Chain 2:  40% [0:00:01 of 0:00:01 remaining]\n",
      "Chain 2:  50% [0:00:00 of 0:00:01 remaining]\n",
      "Chain 2:  60% [0:00:00 of 0:00:01 remaining]\n",
      "Chain 2:  70% [0:00:00 of 0:00:01 remaining]\n",
      "Chain 2:  80% [0:00:00 of 0:00:01 remaining]\n",
      "Chain 2:  90% [0:00:00 of 0:00:01 remaining]\n",
      "Chain 2: 100% [0:00:00 of 0:00:00 remaining]\n",
      "\n",
      "Chain 3:   0% [0:03:53 of 0:03:54 remaining]\n",
      "Chain 3:  10% [0:00:04 of 0:00:05 remaining]\n",
      "Chain 3:  20% [0:00:02 of 0:00:02 remaining]\n",
      "Chain 3:  30% [0:00:01 of 0:00:02 remaining]\n"
     ]
    },
    {
     "data": {
      "text/plain": [
       "      DIC    Effective Parameters\n",
       "pD 13.725497           0.72513885\n",
       "pV 26.232944           6.97886252\n",
       "\n"
      ]
     },
     "execution_count": 24,
     "metadata": {},
     "output_type": "execute_result"
    },
    {
     "name": "stdout",
     "output_type": "stream",
     "text": [
      "Chain 3:  40% [0:00:01 of 0:00:01 remaining]\n",
      "Chain 3:  50% [0:00:01 of 0:00:01 remaining]\n",
      "Chain 3:  60% [0:00:00 of 0:00:01 remaining]\n",
      "Chain 3:  70% [0:00:00 of 0:00:01 remaining]\n",
      "Chain 3:  80% [0:00:00 of 0:00:01 remaining]\n",
      "Chain 3:  90% [0:00:00 of 0:00:01 remaining]\n",
      "Chain 3: 100% [0:00:00 of 0:00:01 remaining]\n",
      "\n"
     ]
    }
   ],
   "source": [
    "dic(sim1)"
   ]
  },
  {
   "cell_type": "code",
   "execution_count": 25,
   "metadata": {
    "collapsed": false
   },
   "outputs": [
    {
     "ename": "LoadError",
     "evalue": "LoadError: UndefVarError: aic not defined\nwhile loading In[25], in expression starting on line 1",
     "output_type": "error",
     "traceback": [
      "LoadError: UndefVarError: aic not defined\nwhile loading In[25], in expression starting on line 1",
      ""
     ]
    }
   ],
   "source": [
    "aic(sim1)"
   ]
  },
  {
   "cell_type": "code",
   "execution_count": 27,
   "metadata": {
    "collapsed": false
   },
   "outputs": [
    {
     "name": "stdout",
     "output_type": "stream",
     "text": [
      "Iterations = 1000:5000\n",
      "Thinning interval = 2\n",
      "Chains = 1,2,3\n",
      "Samples per chain = 2001\n",
      "\n",
      "Empirical Posterior Estimates:\n",
      "           Mean       SD       Naive SE      MCSE       ESS   \n",
      "beta[1] 0.6072372 1.26739343 0.016357890 0.031433774 1625.6605\n",
      "beta[2] 0.8008618 0.38293058 0.004942377 0.008557990 2001.0000\n",
      "\n",
      "Quantiles:\n",
      "            2.5%         25.0%      50.0%     75.0%     97.5%  \n",
      "beta[1] -2.048665709 0.0042377046 0.5935937 1.2268551 3.0559452\n",
      "beta[2]  0.061439738 0.6169185381 0.8048024 0.9808134 1.5662691\n",
      "\n"
     ]
    }
   ],
   "source": [
    "sim = sim1[1000:5000, [\"beta[1]\", \"beta[2]\"], :]\n",
    "describe(sim)"
   ]
  },
  {
   "cell_type": "code",
   "execution_count": 28,
   "metadata": {
    "collapsed": false
   },
   "outputs": [
    {
     "data": {
      "text/plain": [
       "Object of type \"Mamba.ModelChains\"\n",
       "\n",
       "Iterations = 252:10000\n",
       "Thinning interval = 2\n",
       "Chains = 1,2,3\n",
       "Samples per chain = 4875\n",
       "\n",
       "4875x3x3 Array{Float64,3}:\n",
       "[:, :, 1] =\n",
       "  1.64512   0.590281  0.745324\n",
       "  2.01987   0.21768   0.804604\n",
       "  1.90365   0.197333  1.12632 \n",
       "  1.83461   0.407171  0.861489\n",
       " -0.364267  1.0588    0.673022\n",
       " -0.232517  0.949028  0.596242\n",
       " -0.577513  1.19428   0.56121 \n",
       " -0.577513  1.19428   0.482966\n",
       " -0.75152   1.07638   0.444015\n",
       "  1.20238   0.554745  0.542713\n",
       "  1.01894   0.602312  0.565783\n",
       "  1.09983   0.616616  0.331206\n",
       "  1.26023   0.761922  0.797652\n",
       "  ⋮                           \n",
       "  0.138431  1.01351   0.864745\n",
       "  0.307369  0.848039  0.27642 \n",
       "  0.189732  0.850556  0.570012\n",
       " -0.430243  1.18742   0.765399\n",
       " -0.331263  1.27906   1.47324 \n",
       " -1.55257   1.21116   2.11123 \n",
       " -1.5476    1.21237   0.839099\n",
       "  1.9984    0.345858  1.33285 \n",
       "  1.77865   0.7871    2.66465 \n",
       "  2.65552   0.350876  2.91149 \n",
       "  1.86663   0.310991  2.9489  \n",
       " -2.19677   1.75209   1.44492 \n",
       "\n",
       "[:, :, 2] =\n",
       "  0.466503    0.83585   0.248817\n",
       "  0.465977    0.875716  0.329694\n",
       "  0.0243136   1.01564   0.173042\n",
       "  0.00695174  1.03251   0.636612\n",
       " -0.581284    1.08923   1.29093 \n",
       " -0.371881    1.07899   0.799528\n",
       "  0.234489    0.914001  0.146141\n",
       "  1.13274     0.852753  1.94285 \n",
       " -0.186041    0.937233  0.334891\n",
       " -0.087264    1.04888   0.390728\n",
       "  0.330519    0.952158  0.521254\n",
       "  0.855829    0.805713  0.369036\n",
       "  0.833044    0.878298  0.472405\n",
       "  ⋮                             \n",
       "  3.34875     0.313394  2.01828 \n",
       "  2.84807     0.222142  1.20285 \n",
       "  2.84807     0.222142  0.446343\n",
       "  2.79665     0.144772  0.496069\n",
       "  1.10449     0.787791  1.49997 \n",
       "  1.43554     0.326499  2.14842 \n",
       "  0.455542    1.00423   2.52998 \n",
       " -2.78685     1.62384   2.76279 \n",
       " -2.24542     1.69577   1.21799 \n",
       " -0.928028    1.1309    0.640744\n",
       "  0.482598    0.697986  0.271121\n",
       "  0.442243    0.71713   0.309306\n",
       "\n",
       "[:, :, 3] =\n",
       "  1.2106       0.699539   0.712501\n",
       "  1.23398      0.538322   0.542864\n",
       "  1.89727      0.646697   1.33338 \n",
       "  0.508185     0.927358   2.16733 \n",
       " -0.318439     1.1112     0.340439\n",
       " -0.47367      0.989362   1.12694 \n",
       " -0.805487     1.34205    2.16778 \n",
       "  0.858649     0.324695   1.61247 \n",
       "  1.86898      0.222396   2.17913 \n",
       "  1.9933       0.478498   0.33737 \n",
       "  2.09074      0.468077   1.54384 \n",
       "  4.49867     -0.137813   2.31065 \n",
       "  5.14389     -0.0963829  5.76762 \n",
       "  ⋮                               \n",
       " -0.262226     1.05645    0.800703\n",
       " -0.236913     0.878737   2.0619  \n",
       "  1.29569      0.474937   0.764871\n",
       " -0.0225852    0.838162   0.554675\n",
       " -0.0288925    1.04946    0.180865\n",
       " -0.330714     1.08418    0.710054\n",
       "  0.00419192   1.23365    2.38305 \n",
       "  0.916065     0.672417   0.155121\n",
       "  0.30003      0.877371   0.406491\n",
       "  0.30003      0.877371   0.231353\n",
       "  0.253131     0.823787   0.526527\n",
       "  0.26472      0.884509   0.969876"
      ]
     },
     "execution_count": 28,
     "metadata": {},
     "output_type": "execute_result"
    }
   ],
   "source": [
    "## Write to and Read from an External File\n",
    "write(\"sim1.jls\", sim1)\n",
    "sim1 = read(\"sim1.jls\", ModelChains)"
   ]
  },
  {
   "cell_type": "code",
   "execution_count": 29,
   "metadata": {
    "collapsed": false
   },
   "outputs": [
    {
     "name": "stdout",
     "output_type": "stream",
     "text": [
      "MCMC Simulation of 5000 Iterations x 3 Chains...\n",
      "\n",
      "Chain 1:   0% [0:00:14 of 0:00:14 remaining]\n",
      "Chain 1:  10% [0:00:04 of 0:00:04 remaining]\n",
      "Chain 1:  20% [0:00:03 of 0:00:04 remaining]\n",
      "Chain 1:  30% [0:00:03 of 0:00:04 remaining]\n",
      "Chain 1:  40% [0:00:02 of 0:00:04 remaining]\n",
      "Chain 1:  50% [0:00:02 of 0:00:04 remaining]\n",
      "Chain 1:  60% [0:00:02 of 0:00:04 remaining]\n",
      "Chain 1:  70% [0:00:01 of 0:00:05 remaining]\n",
      "Chain 1:  80% [0:00:01 of 0:00:05 remaining]\n",
      "Chain 1:  90% [0:00:00 of 0:00:04 remaining]\n",
      "Chain 1: 100% [0:00:00 of 0:00:05 remaining]\n",
      "\n",
      "Chain 2:   0% [0:00:06 of 0:00:06 remaining]\n",
      "Chain 2:  10% [0:00:04 of 0:00:04 remaining]\n",
      "Chain 2:  20% [0:00:03 of 0:00:04 remaining]\n",
      "Chain 2:  30% [0:00:03 of 0:00:04 remaining]\n",
      "Chain 2:  40% [0:00:03 of 0:00:04 remaining]\n",
      "Chain 2:  50% [0:00:02 of 0:00:04 remaining]\n",
      "Chain 2:  60% [0:00:02 of 0:00:04 remaining]\n",
      "Chain 2:  70% [0:00:01 of 0:00:04 remaining]\n",
      "Chain 2:  80% [0:00:01 of 0:00:04 remaining]\n",
      "Chain 2:  90% [0:00:00 of 0:00:04 remaining]\n",
      "Chain 2: 100% [0:00:00 of 0:00:04 remaining]\n",
      "\n",
      "Chain 3:   0% [0:00:03 of 0:00:03 remaining]\n",
      "Chain 3:  10% [0:00:03 of 0:00:03 remaining]\n",
      "Chain 3:  20% [0:00:03 of 0:00:03 remaining]\n",
      "Chain 3:  30% [0:00:02 of 0:00:03 remaining]\n",
      "Chain 3:  40% [0:00:02 of 0:00:03 remaining]\n",
      "Chain 3:  50% [0:00:01 of 0:00:03 remaining]\n",
      "Chain 3:  60% [0:00:01 of 0:00:03 remaining]\n",
      "Chain 3:  70% [0:00:01 of 0:00:03 remaining]\n",
      "Chain 3:  80% [0:00:01 of 0:00:03 remaining]\n",
      "Chain 3:  90% [0:00:00 of 0:00:03 remaining]\n",
      "Chain 3: 100% [0:00:00 of 0:00:03 remaining]\n",
      "\n",
      "Iterations = 252:15000\n",
      "Thinning interval = 2\n",
      "Chains = 1,2,3\n",
      "Samples per chain = 7375\n",
      "\n",
      "Empirical Posterior Estimates:\n",
      "           Mean       SD       Naive SE       MCSE        ESS   \n",
      "beta[1] 0.6172122 1.21421736 0.0081630940 0.013317765 7375.00000\n",
      "beta[2] 0.7969054 0.36887143 0.0024798955 0.003810112 7375.00000\n",
      "     s2 1.4080377 2.57571485 0.0173163415 0.128941995  399.03114\n",
      "\n",
      "Quantiles:\n",
      "            2.5%        25.0%      50.0%     75.0%    97.5%  \n",
      "beta[1] -1.876435624 0.02597590 0.60496580 1.225807 3.0021169\n",
      "beta[2]  0.057367364 0.61891351 0.79915743 0.974368 1.5419028\n",
      "     s2  0.171791631 0.39021723 0.67451519 1.322917 7.9627137\n",
      "\n"
     ]
    }
   ],
   "source": [
    "sim = mcmc(sim1, 5000)\n",
    "describe(sim)"
   ]
  },
  {
   "cell_type": "code",
   "execution_count": 31,
   "metadata": {
    "collapsed": true
   },
   "outputs": [],
   "source": [
    "## Default summary plot (trace and density plots)\n",
    "p = plot(sim1)\n",
    "\n",
    "## Write plot to file\n",
    "draw(p, filename=\"summaryplot.svg\")"
   ]
  },
  {
   "cell_type": "code",
   "execution_count": 32,
   "metadata": {
    "collapsed": true
   },
   "outputs": [],
   "source": [
    "## Autocorrelation and running mean plots\n",
    "p = plot(sim1, [:autocor, :mean], legend=true)\n",
    "draw(p, nrow=3, ncol=2, filename=\"autocormeanplot.svg\")"
   ]
  },
  {
   "cell_type": "code",
   "execution_count": 33,
   "metadata": {
    "collapsed": true
   },
   "outputs": [],
   "source": [
    "## Pairwise contour plots\n",
    "p = plot(sim1, :contour)\n",
    "draw(p, nrow=2, ncol=2, filename=\"contourplot.svg\")"
   ]
  },
  {
   "cell_type": "code",
   "execution_count": 34,
   "metadata": {
    "collapsed": false
   },
   "outputs": [
    {
     "name": "stdout",
     "output_type": "stream",
     "text": [
      "Object of type \"Mamba.Model\"\n",
      "-------------------------------------------------------------------------------\n",
      "y:\n",
      "An unmonitored node of type \"5-element Mamba.ArrayStochastic{1}\"\n",
      "[1.0,3.0,3.0,3.0,5.0]\n",
      "\n",
      "Distribution:\n",
      "IsoNormal(\n",
      "dim: 5\n",
      "μ: [1.9283935989372833,3.2957024980833443,4.663011397229405,6.030320296375466,7.397629195521527]\n",
      "Σ: [0.36645899740731525 0.0 0.0 0.0 0.0\n",
      " 0.0 0.36645899740731525 0.0 0.0 0.0\n",
      " 0.0 0.0 0.36645899740731525 0.0 0.0\n",
      " 0.0 0.0 0.0 0.36645899740731525 0.0\n",
      " 0.0 0.0 0.0 0.0 0.36645899740731525]\n",
      ")\n",
      "\n",
      "Function:\n",
      "AST(:($(Expr(:lambda, Any[:(model::Model)], Any[Any[Any[:model,:Any,18],Any[:f,:Any,18]],Any[],0,Any[]], :(begin \n",
      "        model = (top(typeassert))(model,Mamba.Model)\n",
      "        f = (anonymous function)\n",
      "        return f((Mamba.getindex)(model,:mu),(Mamba.getindex)(model,:s2))\n",
      "    end)))))\n",
      "\n",
      "Source Nodes:\n",
      "[:mu,:s2]\n",
      "\n",
      "Target Nodes:\n",
      "Symbol[]\n",
      "-------------------------------------------------------------------------------\n",
      "s2:\n",
      "A monitored node of type \"Mamba.ScalarStochastic\"\n",
      "0.36645899740731525\n",
      "\n",
      "Distribution:\n",
      "Distributions.InverseGamma(\n",
      "invd: Distributions.Gamma("
     ]
    },
    {
     "data": {
      "text/plain": [
       "Object of type \"Mamba.Model\"\n",
       "-------------------------------------------------------------------------------\n",
       "y:\n",
       "An unmonitored node of type \"5-element Mamba.ArrayStochastic{1}\"\n",
       "[1.0,3.0,3.0,3.0,5.0]\n",
       "-------------------------------------------------------------------------------\n",
       "s2:\n",
       "A monitored node of type \"Mamba.ScalarStochastic\"\n",
       "0.20655200954079586\n",
       "-------------------------------------------------------------------------------\n",
       "xmat:\n",
       "5x2 Array{Float64,2}:\n",
       " 1.0  1.0\n",
       " 1.0  2.0\n",
       " 1.0  3.0\n",
       " 1.0  4.0\n",
       " 1.0  5.0\n",
       "-------------------------------------------------------------------------------\n",
       "beta:\n",
       "A monitored node of type \"2-element Mamba.ArrayStochastic{1}\"\n",
       "[0.46499943994841353,0.8254574189506928]\n",
       "-------------------------------------------------------------------------------\n",
       "mu:\n",
       "An unmonitored node of type \"5-element Mamba.ArrayLogical{1}\"\n",
       "[1.2904568588991063,2.1159142778497992,2.9413716968004917,3.7668291157511846,4.592286534701877]\n"
      ]
     },
     "execution_count": 34,
     "metadata": {},
     "output_type": "execute_result"
    },
    {
     "name": "stdout",
     "output_type": "stream",
     "text": [
      "α=0.001, θ=1000.0)\n",
      "θ: 0.001\n",
      ")\n",
      "\n",
      "Function:\n",
      "AST(:($(Expr(:lambda, Any[:(model::Model)], Any[Any[Any[:model,:Any,18],Any[:f,:Any,18]],Any[],0,Any[]], :(begin \n",
      "        model = (top(typeassert))(model,Mamba.Model)\n",
      "        f = (anonymous function)\n",
      "        return f()\n",
      "    end)))))\n",
      "\n",
      "Source Nodes:\n",
      "Symbol[]\n",
      "\n",
      "Target Nodes:\n",
      "[:y]\n",
      "-------------------------------------------------------------------------------\n",
      "xmat:\n",
      "[1.0 1.0\n",
      " 1.0 2.0\n",
      " 1.0 3.0\n",
      " 1.0 4.0\n",
      " 1.0 5.0]\n",
      "-------------------------------------------------------------------------------\n",
      "beta:\n",
      "A monitored node of type \"2-element Mamba.ArrayStochastic{1}\"\n",
      "[0.5610846997912224,1.367308899146061]\n",
      "\n",
      "Distribution:\n",
      "ZeroMeanIsoNormal(\n",
      "dim: 2\n",
      "μ: [0.0,0.0]\n",
      "Σ: [1000.0 0.0\n",
      " 0.0 1000.0]\n",
      ")\n",
      "\n",
      "Function:\n",
      "AST(:($(Expr(:lambda, Any[:(model::Model)], Any[Any[Any[:model,:Any,18],Any[:f,:Any,18]],Any[],0,Any[]], :(begin \n",
      "        model = (top(typeassert))(model,Mamba.Model)\n",
      "        f = (anonymous function)\n",
      "        return f()\n",
      "    end)))))\n",
      "\n",
      "Source Nodes:\n",
      "Symbol[]\n",
      "\n",
      "Target Nodes:\n",
      "[:mu,:y]\n",
      "-------------------------------------------------------------------------------\n",
      "mu:\n",
      "An unmonitored node of type \"5-element Mamba.ArrayLogical{1}\"\n",
      "[1.9283935989372833,3.2957024980833443,4.663011397229405,6.030320296375466,7.397629195521527]\n",
      "Function:\n",
      "AST(:($(Expr(:lambda, Any[:(model::Model)], Any[Any[Any[:model,:Any,18],Any[:f,:Any,18]],Any[],0,Any[]], :(begin \n",
      "        model = (top(typeassert))(model,Mamba.Model)\n",
      "        f = (anonymous function)\n",
      "        return f((Mamba.getindex)(model,:xmat),(Mamba.getindex)(model,:beta))\n",
      "    end)))))\n",
      "\n",
      "Source Nodes:\n",
      "[:xmat,:beta]\n",
      "\n",
      "Target Nodes:\n",
      "[:y]\n"
     ]
    }
   ],
   "source": [
    "## Development and Testing\n",
    "\n",
    "setinputs!(model, line)             # Set input node values\n",
    "setinits!(model, inits[1])          # Set initial values\n",
    "setsamplers!(model, scheme1)        # Set sampling scheme\n",
    "\n",
    "showall(model)                      # Show detailed node information\n",
    "\n",
    "logpdf(model, 1)                    # Log-density sum for block 1\n",
    "logpdf(model, 2)                    # Block 2\n",
    "logpdf(model)                       # All blocks\n",
    "\n",
    "sample!(model, 1)                  # Sample values for block 1\n",
    "sample!(model, 2)                  # Block 2\n",
    "sample!(model)                     # All blocks"
   ]
  },
  {
   "cell_type": "code",
   "execution_count": null,
   "metadata": {
    "collapsed": true
   },
   "outputs": [],
   "source": []
  }
 ],
 "metadata": {
  "kernelspec": {
   "display_name": "Julia 0.4.5",
   "language": "julia",
   "name": "julia-0.4"
  },
  "language_info": {
   "file_extension": ".jl",
   "mimetype": "application/julia",
   "name": "julia",
   "version": "0.4.5"
  }
 },
 "nbformat": 4,
 "nbformat_minor": 0
}
