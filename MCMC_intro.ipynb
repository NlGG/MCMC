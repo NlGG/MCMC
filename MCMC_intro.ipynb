{
 "cells": [
  {
   "cell_type": "markdown",
   "metadata": {},
   "source": [
    "<p>①メトロポリス・ヘイスティングス法</p>\n",
    "「メトロポリス・ヘイスティングス法は、目標分布π(x)からのサンプリングが困難な場合に、サンプリングが容易な分布を提案分布として採用し、目標分布と提案分布の違いを詳細釣り合い条件が満たされるように修正する操作を含めることで、目標分布からのサンプリングを可能とするアルゴリズム」"
   ]
  },
  {
   "cell_type": "markdown",
   "metadata": {},
   "source": [
    "提案分布を$$q(x|x^{(t)})$$とする。詳細釣り合い条件を満たしていない状況は、$$\\pi(x^{(t)})q(x|x^{(t)})>\\pi(x)q(x^{(t)}|x)$$と仮定される。これは、左辺がt時点での状態から条件つき確率q(x|x^(t))でxに推移、右辺が状態xから条件つき確率q(x^(t)|x)でt時点での状態x^(t)に推移することを示している。つまり、x→x^(t)の推移量とx^(t)→xの推移量の一致が釣り合い条件であり、この量では左辺の推移量が右辺の推移量を上回っている。"
   ]
  },
  {
   "cell_type": "markdown",
   "metadata": {},
   "source": [
    "この崩れを修正するために、x^(t)からxへの推移の量を調節する確率α(x|x^(t))を導入する。すなわち、x^(t)からxへ$$p(x|x^{(t)})=q(x|x^{(t)})×α(x|x^{(t)})$$に従って推移する。"
   ]
  },
  {
   "cell_type": "code",
   "execution_count": null,
   "metadata": {
    "collapsed": true
   },
   "outputs": [],
   "source": []
  }
 ],
 "metadata": {
  "kernelspec": {
   "display_name": "Python 2",
   "language": "python",
   "name": "python2"
  },
  "language_info": {
   "codemirror_mode": {
    "name": "ipython",
    "version": 2
   },
   "file_extension": ".py",
   "mimetype": "text/x-python",
   "name": "python",
   "nbconvert_exporter": "python",
   "pygments_lexer": "ipython2",
   "version": "2.7.11"
  }
 },
 "nbformat": 4,
 "nbformat_minor": 0
}
